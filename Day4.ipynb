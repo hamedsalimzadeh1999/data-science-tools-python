{
 "cells": [
  {
   "cell_type": "code",
   "execution_count": 8,
   "metadata": {},
   "outputs": [],
   "source": [
    "from sklearn.metrics import confusion_matrix , accuracy_score , classification_report"
   ]
  },
  {
   "cell_type": "code",
   "execution_count": 9,
   "metadata": {},
   "outputs": [],
   "source": [
    "ac = np.array([0,0,0,1,0,0,1,1,1,0,1])"
   ]
  },
  {
   "cell_type": "code",
   "execution_count": 10,
   "metadata": {},
   "outputs": [],
   "source": [
    "pr = np.array([1,0,1,0,0,1,1,0,1,0,1])"
   ]
  },
  {
   "cell_type": "code",
   "execution_count": 24,
   "metadata": {},
   "outputs": [
    {
     "name": "stdout",
     "output_type": "stream",
     "text": [
      "[[3 3]\n",
      " [2 3]] \n",
      "\n",
      "TP = 3\n",
      "FN = 3\n",
      "FP = 2\n",
      "TN = 3\n"
     ]
    }
   ],
   "source": [
    "conf_matix = confusion_matrix(ac,pr,labels = [0,1])\n",
    "print(conf_matix , '\\n')\n",
    "print(f'TP = {conf_matix[0,0]}\\nFN = {conf_matix[0,1]}\\nFP = {conf_matix[1,0]}\\nTN = {conf_matix[1,1]}')"
   ]
  },
  {
   "cell_type": "code",
   "execution_count": 27,
   "metadata": {},
   "outputs": [
    {
     "data": {
      "text/plain": [
       "0.5454545454545454"
      ]
     },
     "execution_count": 27,
     "metadata": {},
     "output_type": "execute_result"
    }
   ],
   "source": [
    "acc = accuracy_score(ac,pr)\n",
    "acc"
   ]
  },
  {
   "cell_type": "code",
   "execution_count": 31,
   "metadata": {},
   "outputs": [
    {
     "data": {
      "text/plain": [
       "'              precision    recall  f1-score   support\\n\\n           0       0.60      0.50      0.55         6\\n           1       0.50      0.60      0.55         5\\n\\n   micro avg       0.55      0.55      0.55        11\\n   macro avg       0.55      0.55      0.55        11\\nweighted avg       0.55      0.55      0.55        11\\n'"
      ]
     },
     "execution_count": 31,
     "metadata": {},
     "output_type": "execute_result"
    }
   ],
   "source": [
    "cr = classification_report(ac,pr)\n",
    "cr"
   ]
  },
  {
   "cell_type": "code",
   "execution_count": 32,
   "metadata": {},
   "outputs": [
    {
     "name": "stdout",
     "output_type": "stream",
     "text": [
      "              precision    recall  f1-score   support\n",
      "\n",
      "           0       0.60      0.50      0.55         6\n",
      "           1       0.50      0.60      0.55         5\n",
      "\n",
      "   micro avg       0.55      0.55      0.55        11\n",
      "   macro avg       0.55      0.55      0.55        11\n",
      "weighted avg       0.55      0.55      0.55        11\n",
      "\n"
     ]
    }
   ],
   "source": [
    "print(cr)\n"
   ]
  },
  {
   "cell_type": "code",
   "execution_count": null,
   "metadata": {},
   "outputs": [],
   "source": []
  }
 ],
 "metadata": {
  "kernelspec": {
   "display_name": "Python 3",
   "language": "python",
   "name": "python3"
  },
  "language_info": {
   "codemirror_mode": {
    "name": "ipython",
    "version": 3
   },
   "file_extension": ".py",
   "mimetype": "text/x-python",
   "name": "python",
   "nbconvert_exporter": "python",
   "pygments_lexer": "ipython3",
   "version": "3.7.3"
  }
 },
 "nbformat": 4,
 "nbformat_minor": 2
}
